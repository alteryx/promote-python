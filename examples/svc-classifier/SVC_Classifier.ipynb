{
 "cells": [
  {
   "cell_type": "code",
   "execution_count": 1,
   "metadata": {
    "collapsed": true
   },
   "outputs": [],
   "source": [
    "# !pip install promote"
   ]
  },
  {
   "cell_type": "code",
   "execution_count": 2,
   "metadata": {
    "collapsed": true
   },
   "outputs": [],
   "source": [
    "import numpy as np\n",
    "import pandas as pd\n",
    "from sklearn.svm import SVC\n",
    "from sklearn.datasets import load_iris\n",
    "\n",
    "iris = load_iris()"
   ]
  },
  {
   "cell_type": "code",
   "execution_count": 3,
   "metadata": {
    "collapsed": true
   },
   "outputs": [],
   "source": [
    "X = pd.DataFrame(iris.data, columns=iris.feature_names)\n",
    "y = pd.DataFrame(iris.target, columns=[\"flower_types\"])"
   ]
  },
  {
   "cell_type": "code",
   "execution_count": 4,
   "metadata": {
    "collapsed": true
   },
   "outputs": [],
   "source": [
    "clf = SVC()"
   ]
  },
  {
   "cell_type": "code",
   "execution_count": 5,
   "metadata": {},
   "outputs": [
    {
     "data": {
      "text/plain": [
       "SVC(C=1.0, cache_size=200, class_weight=None, coef0=0.0,\n",
       "  decision_function_shape='ovr', degree=3, gamma='auto', kernel='rbf',\n",
       "  max_iter=-1, probability=False, random_state=None, shrinking=True,\n",
       "  tol=0.001, verbose=False)"
      ]
     },
     "execution_count": 5,
     "metadata": {},
     "output_type": "execute_result"
    }
   ],
   "source": [
    "clf.fit(X, y[\"flower_types\"])"
   ]
  },
  {
   "cell_type": "code",
   "execution_count": 6,
   "metadata": {
    "collapsed": true
   },
   "outputs": [],
   "source": [
    "import promote\n",
    "\n",
    "def irisClassifier(data):\n",
    "    prediction = clf.predict(pd.DataFrame(data))\n",
    "    species = ['setosa', 'versicolor', 'virginica']\n",
    "    result = [species[i] for i in prediction]\n",
    "    return result"
   ]
  },
  {
   "cell_type": "code",
   "execution_count": 7,
   "metadata": {},
   "outputs": [
    {
     "name": "stdout",
     "output_type": "stream",
     "text": [
      "Data to test: {\"0\":{\"0\":5.1},\"1\":{\"0\":3.5},\"2\":{\"0\":1.4},\"3\":{\"0\":0.2}}\n",
      "Local Prediction:  ['setosa']\n"
     ]
    }
   ],
   "source": [
    "TESTDATA = pd.DataFrame(iris.data[:1])\n",
    "print(\"Data to test:\", TESTDATA.to_json())\n",
    "print(\"Local Prediction: \", irisClassifier(TESTDATA))"
   ]
  },
  {
   "cell_type": "code",
   "execution_count": 8,
   "metadata": {},
   "outputs": [],
   "source": [
    "# USERNAME = \"USERNAME\"\n",
    "# API_KEY = \"APIKEY\"\n",
    "# PROMOTE_URL = \"https://promote.c.yhat.com/\"\n",
    "USERNAME = 'ming'\n",
    "API_KEY = '84619259-a834-4b11-8ddd-dd3d505fb33c'\n",
    "PROMOTE_URL = 'http://172.27.96.55/'\n",
    "\n",
    "p = promote.Promote(USERNAME, API_KEY, PROMOTE_URL)"
   ]
  },
  {
   "cell_type": "code",
   "execution_count": 20,
   "metadata": {},
   "outputs": [
    {
     "data": {
      "text/plain": [
       "array([-0.03985691, -0.16777453, -0.14370469])"
      ]
     },
     "execution_count": 20,
     "metadata": {},
     "output_type": "execute_result"
    }
   ],
   "source": [
    "# add metadata\n",
    "p.metadata['intercept'] = list(np.around(clf.intercept_,3))\n",
    "p.metadata['n_support'] = [int(n) for n in list(clf.n_support_)]"
   ]
  },
  {
   "cell_type": "code",
   "execution_count": 11,
   "metadata": {},
   "outputs": [],
   "source": [
    "# NOTE: this cell will fail to execute.  We must run this notebook as a .py file\n",
    "# This can be done by going to \"File\" > \"Download as\" > \"Python (.py)\"\n",
    "# You can also run `jupyter nbconvert --to script [YOUR_NOTEBOOK].ipynb` from the command line\n",
    "import sys\n",
    "import os\n",
    "if 'ipy' not in os.path.realpath(sys.argv[0]):\n",
    "    p.deploy(\"IrisSVC\", irisClassifier, TESTDATA, confirm=False)"
   ]
  }
 ],
 "metadata": {
  "kernelspec": {
   "display_name": "Python 3",
   "language": "python",
   "name": "python3"
  },
  "language_info": {
   "codemirror_mode": {
    "name": "ipython",
    "version": 3
   },
   "file_extension": ".py",
   "mimetype": "text/x-python",
   "name": "python",
   "nbconvert_exporter": "python",
   "pygments_lexer": "ipython3",
   "version": "3.6.1"
  }
 },
 "nbformat": 4,
 "nbformat_minor": 2
}